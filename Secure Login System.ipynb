{
 "cells": [
  {
   "cell_type": "markdown",
   "metadata": {},
   "source": [
    "# Secure Login System"
   ]
  },
  {
   "cell_type": "code",
   "execution_count": null,
   "metadata": {
    "scrolled": true
   },
   "outputs": [],
   "source": [
    "import numpy as np\n",
    "import random\n",
    "\n",
    "U = ['vinodak', 'anilbk', 'sunilbk', 'shrutik', 'vinayakamate', 'shreedevih', 'savitakumbar', 'savitavasnad', 'msalur', 'rukminijoshi']\n",
    "P = ['2411vinoda', 'anil@7299', 'sunil@1100', 'shruti@2345', 'vinayak@priya', 'shree@1234', 'savita@0639', 'savita@vasi01', 'ms@vasi2312', 'rukmini@joshi05']\n",
    "M = [99XXXX68XX, 996XXXX299, 962XXX101, XXXXXXXXXX, XXXXXXXXXX, XXXXXXXXXX, XXXXXXXXXX, XXXXXXXXXX, XXXXXXXXXX, XXXXXXXXXX]\n",
    "\n",
    "mapped = list(zip(U, P, M))\n",
    "\n",
    "Username = input('Enter the username: ')\n",
    "user_found = False\n",
    "\n",
    "for user, password, mobile in mapped:\n",
    "    if user == Username:\n",
    "        user_found = True\n",
    "        print(\"Username is correct\")\n",
    "        \n",
    "        attempt = 1\n",
    "        while attempt <= 3:\n",
    "            entered_password = input(\"Enter your password: \")\n",
    "            if entered_password == password:\n",
    "                print(\"Correct password\")\n",
    "                \n",
    "                entered_mobile = int(input(\"Enter your 10 digit mobile number: \"))\n",
    "                if entered_mobile == mobile:\n",
    "                    print(\"Mobile number is correct\")\n",
    "                    \n",
    "                    OTP1 = random.randint(100000, 999999)\n",
    "                    print(f\"OTP sent: {OTP1}\")  # In real applications, this would be sent to the phone.\n",
    "                    entered_otp = int(input(\"Enter the OTP: \"))\n",
    "                    \n",
    "                    if entered_otp == OTP1:\n",
    "                        print(\"Login successful!\")\n",
    "                    else:\n",
    "                        print(\"Incorrect OTP. Login failed.\")\n",
    "                    break\n",
    "                else:\n",
    "                    print(\"Incorrect mobile number.\")\n",
    "                    break\n",
    "            else:\n",
    "                print(f\"Wrong password. Attempts left: {3 - attempt}\")\n",
    "                attempt += 1\n",
    "        break  # Exit after handling one user\n",
    "\n",
    "if not user_found:\n",
    "    print(\"Incorrect username\")\n"
   ]
  }
 ],
 "metadata": {
  "kernelspec": {
   "display_name": "Python 3 (ipykernel)",
   "language": "python",
   "name": "python3"
  },
  "language_info": {
   "codemirror_mode": {
    "name": "ipython",
    "version": 3
   },
   "file_extension": ".py",
   "mimetype": "text/x-python",
   "name": "python",
   "nbconvert_exporter": "python",
   "pygments_lexer": "ipython3",
   "version": "3.11.5"
  }
 },
 "nbformat": 4,
 "nbformat_minor": 4
}
